{
 "cells": [
  {
   "cell_type": "code",
   "execution_count": 1,
   "metadata": {},
   "outputs": [
    {
     "name": "stdout",
     "output_type": "stream",
     "text": [
      "Pure Python Runtimes: [0.0, 0.00400233268737793, 0.05455589294433594, 0.4261181354522705]\n"
     ]
    }
   ],
   "source": [
    "import random\n",
    "import time\n",
    "\n",
    "def simulate_particles_python(num_particles):\n",
    "    particles = []\n",
    "    for _ in range(num_particles):\n",
    "        particle = {'x': random.uniform(0, 100), 'y': random.uniform(0, 100), 'vx': random.uniform(-1, 1), 'vy': random.uniform(-1, 1)}\n",
    "        particles.append(particle)\n",
    "    \n",
    "    timestep = 0.1\n",
    "    num_steps = 100\n",
    "    \n",
    "    start_time = time.time()\n",
    "    for _ in range(num_steps):\n",
    "        for particle in particles:\n",
    "            particle['x'] += particle['vx'] * timestep\n",
    "            particle['y'] += particle['vy'] * timestep\n",
    "    end_time = time.time()\n",
    "    \n",
    "    return end_time - start_time\n",
    "\n",
    "# Benchmarking\n",
    "particle_sizes = [10, 100, 1000, 10000]\n",
    "runtimes_python = []\n",
    "\n",
    "for num_particles in particle_sizes:\n",
    "    runtime = simulate_particles_python(num_particles)\n",
    "    runtimes_python.append(runtime)\n",
    "\n",
    "print(\"Pure Python Runtimes:\", runtimes_python)\n"
   ]
  },
  {
   "cell_type": "code",
   "execution_count": 2,
   "metadata": {},
   "outputs": [
    {
     "name": "stdout",
     "output_type": "stream",
     "text": [
      "NumPy Runtimes: [0.0009946823120117188, 0.0009987354278564453, 0.0010001659393310547, 0.005002498626708984]\n"
     ]
    }
   ],
   "source": [
    "import numpy as np\n",
    "\n",
    "def simulate_particles_numpy(num_particles):\n",
    "    particles = np.random.uniform(0, 100, size=(num_particles, 4))  # 4 columns: x, y, vx, vy\n",
    "    \n",
    "    timestep = 0.1\n",
    "    num_steps = 100\n",
    "    \n",
    "    start_time = time.time()\n",
    "    for _ in range(num_steps):\n",
    "        particles[:, 0] += particles[:, 2] * timestep  # Update x positions\n",
    "        particles[:, 1] += particles[:, 3] * timestep  # Update y positions\n",
    "    end_time = time.time()\n",
    "    \n",
    "    return end_time - start_time\n",
    "\n",
    "# Benchmarking\n",
    "runtimes_numpy = []\n",
    "\n",
    "for num_particles in particle_sizes:\n",
    "    runtime = simulate_particles_numpy(num_particles)\n",
    "    runtimes_numpy.append(runtime)\n",
    "\n",
    "print(\"NumPy Runtimes:\", runtimes_numpy)\n"
   ]
  },
  {
   "cell_type": "code",
   "execution_count": 3,
   "metadata": {},
   "outputs": [
    {
     "name": "stdout",
     "output_type": "stream",
     "text": [
      "NumPy Time: 0.478926420211792\n",
      "Numexpr Time: 0.06053519248962402\n"
     ]
    }
   ],
   "source": [
    "import numpy as np\n",
    "import numexpr as ne\n",
    "import time\n",
    "\n",
    "# Define a large array\n",
    "size = 10**7\n",
    "x = np.random.rand(size)\n",
    "y = np.random.rand(size)\n",
    "z = np.random.rand(size)\n",
    "\n",
    "# NumPy implementation\n",
    "start_time_numpy = time.time()\n",
    "result_numpy = np.sqrt(x**2 + y**2 + z**2)\n",
    "end_time_numpy = time.time()\n",
    "numpy_time = end_time_numpy - start_time_numpy\n",
    "\n",
    "# Numexpr implementation\n",
    "start_time_numexpr = time.time()\n",
    "result_numexpr = ne.evaluate('sqrt(x**2 + y**2 + z**2)')\n",
    "end_time_numexpr = time.time()\n",
    "numexpr_time = end_time_numexpr - start_time_numexpr\n",
    "\n",
    "# Check if results are the same\n",
    "assert np.allclose(result_numpy, result_numexpr)\n",
    "\n",
    "print(\"NumPy Time:\", numpy_time)\n",
    "print(\"Numexpr Time:\", numexpr_time)\n"
   ]
  }
 ],
 "metadata": {
  "kernelspec": {
   "display_name": "Python 3",
   "language": "python",
   "name": "python3"
  },
  "language_info": {
   "codemirror_mode": {
    "name": "ipython",
    "version": 3
   },
   "file_extension": ".py",
   "mimetype": "text/x-python",
   "name": "python",
   "nbconvert_exporter": "python",
   "pygments_lexer": "ipython3",
   "version": "3.12.2"
  }
 },
 "nbformat": 4,
 "nbformat_minor": 2
}
