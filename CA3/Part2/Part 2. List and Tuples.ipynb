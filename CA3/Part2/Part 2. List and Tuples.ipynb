{
 "cells": [
  {
   "cell_type": "code",
   "execution_count": 1,
   "metadata": {},
   "outputs": [
    {
     "name": "stdout",
     "output_type": "stream",
     "text": [
      "N\tDelete Last\tDelete First\tAppend\tInsert\n",
      "10000\t0.000070\t0.003315\t0.000139\t0.015036\n",
      "20000\t0.000069\t0.006150\t0.000251\t0.021139\n",
      "30000\t0.000053\t0.009588\t0.000226\t0.032535\n"
     ]
    }
   ],
   "source": [
    "import timeit\n",
    "\n",
    "# Function to measure time for different operations on a list\n",
    "def measure_list_operations(N):\n",
    "    setup_code = f\"my_list = list(range({N}))\"\n",
    "\n",
    "    # Time for deleting last element using pop()\n",
    "    delete_last_time = timeit.timeit(\"my_list.pop()\", setup=setup_code, number=1000)\n",
    "\n",
    "    # Time for deleting first element using pop(0)\n",
    "    delete_first_time = timeit.timeit(\"my_list.pop(0)\", setup=setup_code, number=1000)\n",
    "\n",
    "    # Time for appending 1 at the end of the list\n",
    "    append_time = timeit.timeit(\"my_list.append(1)\", setup=setup_code, number=1000)\n",
    "\n",
    "    # Time for inserting 1 at the beginning of the list\n",
    "    insert_time = timeit.timeit(\"my_list.insert(0, 1)\", setup=setup_code, number=1000)\n",
    "\n",
    "    return delete_last_time, delete_first_time, append_time, insert_time\n",
    "\n",
    "# List of different sizes\n",
    "sizes = [10000, 20000, 30000]\n",
    "\n",
    "# Measure time for each operation for each size\n",
    "results = {}\n",
    "for size in sizes:\n",
    "    results[size] = measure_list_operations(size)\n",
    "\n",
    "# Print the results in a table format\n",
    "print(\"N\\tDelete Last\\tDelete First\\tAppend\\tInsert\")\n",
    "for size in sizes:\n",
    "    delete_last_time, delete_first_time, append_time, insert_time = results[size]\n",
    "    print(f\"{size}\\t{delete_last_time:.6f}\\t{delete_first_time:.6f}\\t{append_time:.6f}\\t{insert_time:.6f}\")\n"
   ]
  },
  {
   "cell_type": "code",
   "execution_count": 17,
   "metadata": {},
   "outputs": [
    {
     "name": "stdout",
     "output_type": "stream",
     "text": [
      "Size of deque (N) | deque.pop() | deque.popleft() | deque.append(1) | deque.appendleft(1)\n",
      "-------------------|-------------|-----------------|-----------------|---------------------\n",
      "            10000 | 0.0000000000 | 0.0000000000 | 0.0000000000 | 0.0000000000\n",
      "            20000 | 0.0000000000 | 0.0000000000 | 0.0000000000 | 0.0000000000\n",
      "            30000 | 0.0000000000 | 0.0000000000 | 0.0000000000 | 0.0000000000\n"
     ]
    }
   ],
   "source": [
    "from collections import deque\n",
    "import time\n",
    "\n",
    "# Function to evaluate time for deque methods\n",
    "def evaluate_time(N):\n",
    "    my_deque = deque(range(N))\n",
    "\n",
    "    # Measure time for deque.pop()\n",
    "    start_time = time.time()\n",
    "    my_deque.pop()\n",
    "    end_time = time.time()\n",
    "    pop_time = end_time - start_time\n",
    "\n",
    "    # Measure time for deque.popleft()\n",
    "    start_time = time.time()\n",
    "    my_deque.popleft()\n",
    "    end_time = time.time()\n",
    "    popleft_time = end_time - start_time\n",
    "\n",
    "    # Measure time for deque.append(1)\n",
    "    start_time = time.time()\n",
    "    my_deque.append(1)\n",
    "    end_time = time.time()\n",
    "    append_time = end_time - start_time\n",
    "\n",
    "    # Measure time for deque.appendleft(1)\n",
    "    start_time = time.time()\n",
    "    my_deque.appendleft(1)\n",
    "    end_time = time.time()\n",
    "    appendleft_time = end_time - start_time\n",
    "\n",
    "    return pop_time, popleft_time, append_time, appendleft_time\n",
    "\n",
    "# Main function\n",
    "def main():\n",
    "    deque_sizes = [10000, 20000, 30000]\n",
    "\n",
    "    print(\"Size of deque (N) | deque.pop() | deque.popleft() | deque.append(1) | deque.appendleft(1)\")\n",
    "    print(\"-------------------|-------------|-----------------|-----------------|---------------------\")\n",
    "\n",
    "    for N in deque_sizes:\n",
    "        pop_time, popleft_time, append_time, appendleft_time = evaluate_time(N)\n",
    "        print(f\"{N:17} | {pop_time:.10f} | {popleft_time:.10f} | {append_time:.10f} | {appendleft_time:.10f}\")\n",
    "\n",
    "if __name__ == \"__main__\":\n",
    "    main()\n",
    "\n",
    "\n"
   ]
  },
  {
   "cell_type": "code",
   "execution_count": 16,
   "metadata": {},
   "outputs": [
    {
     "name": "stdout",
     "output_type": "stream",
     "text": [
      "Size of deque (N) | Accessing First | Accessing Last | Accessing Middle\n",
      "-------------------|-----------------|----------------|------------------\n",
      "            10000 | 0.0000000000   | 0.0010006428  | 0.0000000000\n",
      "            20000 | 0.0000000000   | 0.0000000000  | 0.0000000000\n",
      "            30000 | 0.0000000000   | 0.0000000000  | 0.0000000000\n"
     ]
    }
   ],
   "source": [
    "from collections import deque\n",
    "import time\n",
    "\n",
    "# Function to evaluate time for accessing deque operations\n",
    "def evaluate_time(N):\n",
    "    my_deque = deque(range(N))\n",
    "\n",
    "    # Measure time for accessing first element\n",
    "    start_time = time.time()\n",
    "    first_element = my_deque[0]\n",
    "    end_time = time.time()\n",
    "    access_first_time = end_time - start_time\n",
    "\n",
    "    # Measure time for accessing last element\n",
    "    start_time = time.time()\n",
    "    last_element = my_deque[-1]\n",
    "    end_time = time.time()\n",
    "    access_last_time = end_time - start_time\n",
    "\n",
    "    # Measure time for accessing middle element\n",
    "    start_time = time.time()\n",
    "    middle_element = my_deque[int(N/2)]\n",
    "    end_time = time.time()\n",
    "    access_middle_time = end_time - start_time\n",
    "\n",
    "    return access_first_time, access_last_time, access_middle_time\n",
    "\n",
    "# Main function\n",
    "def main():\n",
    "    deque_sizes = [10000, 20000, 30000]\n",
    "\n",
    "    print(\"Size of deque (N) | Accessing First | Accessing Last | Accessing Middle\")\n",
    "    print(\"-------------------|-----------------|----------------|------------------\")\n",
    "\n",
    "    for N in deque_sizes:\n",
    "        access_first_time, access_last_time, access_middle_time = evaluate_time(N)\n",
    "        print(f\"{N:17} | {access_first_time:.10f}   | {access_last_time:.10f}  | {access_middle_time:.10f}\")\n",
    "\n",
    "if __name__ == \"__main__\":\n",
    "    main()\n",
    "\n"
   ]
  }
 ],
 "metadata": {
  "kernelspec": {
   "display_name": "Python 3",
   "language": "python",
   "name": "python3"
  },
  "language_info": {
   "codemirror_mode": {
    "name": "ipython",
    "version": 3
   },
   "file_extension": ".py",
   "mimetype": "text/x-python",
   "name": "python",
   "nbconvert_exporter": "python",
   "pygments_lexer": "ipython3",
   "version": "3.12.2"
  }
 },
 "nbformat": 4,
 "nbformat_minor": 2
}
