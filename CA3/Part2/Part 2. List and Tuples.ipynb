{
 "cells": [
  {
   "cell_type": "code",
   "execution_count": 1,
   "metadata": {},
   "outputs": [
    {
     "name": "stdout",
     "output_type": "stream",
     "text": [
      "N\tDelete Last\tDelete First\tAppend\tInsert\n",
      "10000\t0.000070\t0.003315\t0.000139\t0.015036\n",
      "20000\t0.000069\t0.006150\t0.000251\t0.021139\n",
      "30000\t0.000053\t0.009588\t0.000226\t0.032535\n"
     ]
    }
   ],
   "source": [
    "import timeit\n",
    "\n",
    "# Function to measure time for different operations on a list\n",
    "def measure_list_operations(N):\n",
    "    setup_code = f\"my_list = list(range({N}))\"\n",
    "\n",
    "    # Time for deleting last element using pop()\n",
    "    delete_last_time = timeit.timeit(\"my_list.pop()\", setup=setup_code, number=1000)\n",
    "\n",
    "    # Time for deleting first element using pop(0)\n",
    "    delete_first_time = timeit.timeit(\"my_list.pop(0)\", setup=setup_code, number=1000)\n",
    "\n",
    "    # Time for appending 1 at the end of the list\n",
    "    append_time = timeit.timeit(\"my_list.append(1)\", setup=setup_code, number=1000)\n",
    "\n",
    "    # Time for inserting 1 at the beginning of the list\n",
    "    insert_time = timeit.timeit(\"my_list.insert(0, 1)\", setup=setup_code, number=1000)\n",
    "\n",
    "    return delete_last_time, delete_first_time, append_time, insert_time\n",
    "\n",
    "# List of different sizes\n",
    "sizes = [10000, 20000, 30000]\n",
    "\n",
    "# Measure time for each operation for each size\n",
    "results = {}\n",
    "for size in sizes:\n",
    "    results[size] = measure_list_operations(size)\n",
    "\n",
    "# Print the results in a table format\n",
    "print(\"N\\tDelete Last\\tDelete First\\tAppend\\tInsert\")\n",
    "for size in sizes:\n",
    "    delete_last_time, delete_first_time, append_time, insert_time = results[size]\n",
    "    print(f\"{size}\\t{delete_last_time:.6f}\\t{delete_first_time:.6f}\\t{append_time:.6f}\\t{insert_time:.6f}\")\n"
   ]
  },
  {
   "cell_type": "code",
   "execution_count": 17,
   "metadata": {},
   "outputs": [
    {
     "name": "stdout",
     "output_type": "stream",
     "text": [
      "Size of deque (N) | deque.pop() | deque.popleft() | deque.append(1) | deque.appendleft(1)\n",
      "-------------------|-------------|-----------------|-----------------|---------------------\n",
      "            10000 | 0.0000000000 | 0.0000000000 | 0.0000000000 | 0.0000000000\n",
      "            20000 | 0.0000000000 | 0.0000000000 | 0.0000000000 | 0.0000000000\n",
      "            30000 | 0.0000000000 | 0.0000000000 | 0.0000000000 | 0.0000000000\n"
     ]
    }
   ],
   "source": [
    "from collections import deque\n",
    "import time\n",
    "\n",
    "# Function to evaluate time for deque methods\n",
    "def evaluate_time(N):\n",
    "    my_deque = deque(range(N))\n",
    "\n",
    "    # Measure time for deque.pop()\n",
    "    start_time = time.time()\n",
    "    my_deque.pop()\n",
    "    end_time = time.time()\n",
    "    pop_time = end_time - start_time\n",
    "\n",
    "    # Measure time for deque.popleft()\n",
    "    start_time = time.time()\n",
    "    my_deque.popleft()\n",
    "    end_time = time.time()\n",
    "    popleft_time = end_time - start_time\n",
    "\n",
    "    # Measure time for deque.append(1)\n",
    "    start_time = time.time()\n",
    "    my_deque.append(1)\n",
    "    end_time = time.time()\n",
    "    append_time = end_time - start_time\n",
    "\n",
    "    # Measure time for deque.appendleft(1)\n",
    "    start_time = time.time()\n",
    "    my_deque.appendleft(1)\n",
    "    end_time = time.time()\n",
    "    appendleft_time = end_time - start_time\n",
    "\n",
    "    return pop_time, popleft_time, append_time, appendleft_time\n",
    "\n",
    "# Main function\n",
    "def main():\n",
    "    deque_sizes = [10000, 20000, 30000]\n",
    "\n",
    "    print(\"Size of deque (N) | deque.pop() | deque.popleft() | deque.append(1) | deque.appendleft(1)\")\n",
    "    print(\"-------------------|-------------|-----------------|-----------------|---------------------\")\n",
    "\n",
    "    for N in deque_sizes:\n",
    "        pop_time, popleft_time, append_time, appendleft_time = evaluate_time(N)\n",
    "        print(f\"{N:17} | {pop_time:.10f} | {popleft_time:.10f} | {append_time:.10f} | {appendleft_time:.10f}\")\n",
    "\n",
    "if __name__ == \"__main__\":\n",
    "    main()\n",
    "\n",
    "\n"
   ]
  },
  {
   "cell_type": "code",
   "execution_count": 16,
   "metadata": {},
   "outputs": [
    {
     "name": "stdout",
     "output_type": "stream",
     "text": [
      "Size of deque (N) | Accessing First | Accessing Last | Accessing Middle\n",
      "-------------------|-----------------|----------------|------------------\n",
      "            10000 | 0.0000000000   | 0.0010006428  | 0.0000000000\n",
      "            20000 | 0.0000000000   | 0.0000000000  | 0.0000000000\n",
      "            30000 | 0.0000000000   | 0.0000000000  | 0.0000000000\n"
     ]
    }
   ],
   "source": [
    "from collections import deque\n",
    "import time\n",
    "\n",
    "# Function to evaluate time for accessing deque operations\n",
    "def evaluate_time(N):\n",
    "    my_deque = deque(range(N))\n",
    "\n",
    "    # Measure time for accessing first element\n",
    "    start_time = time.time()\n",
    "    first_element = my_deque[0]\n",
    "    end_time = time.time()\n",
    "    access_first_time = end_time - start_time\n",
    "\n",
    "    # Measure time for accessing last element\n",
    "    start_time = time.time()\n",
    "    last_element = my_deque[-1]\n",
    "    end_time = time.time()\n",
    "    access_last_time = end_time - start_time\n",
    "\n",
    "    # Measure time for accessing middle element\n",
    "    start_time = time.time()\n",
    "    middle_element = my_deque[int(N/2)]\n",
    "    end_time = time.time()\n",
    "    access_middle_time = end_time - start_time\n",
    "\n",
    "    return access_first_time, access_last_time, access_middle_time\n",
    "\n",
    "# Main function\n",
    "def main():\n",
    "    deque_sizes = [10000, 20000, 30000]\n",
    "\n",
    "    print(\"Size of deque (N) | Accessing First | Accessing Last | Accessing Middle\")\n",
    "    print(\"-------------------|-----------------|----------------|------------------\")\n",
    "\n",
    "    for N in deque_sizes:\n",
    "        access_first_time, access_last_time, access_middle_time = evaluate_time(N)\n",
    "        print(f\"{N:17} | {access_first_time:.10f}   | {access_last_time:.10f}  | {access_middle_time:.10f}\")\n",
    "\n",
    "if __name__ == \"__main__\":\n",
    "    main()\n",
    "\n"
   ]
  },
  {
   "cell_type": "code",
   "execution_count": null,
   "metadata": {},
   "outputs": [],
   "source": [
    "Overallocation in lists refers to the practice of allocating more memory than is currently needed for storing elements in a list. This additional memory allocation is done to prevent frequent resizing of the list as elements are added, which can be a costly operation in terms of time complexity.\n",
    "\n",
    "When a list is created, Python typically allocates memory for a certain number of elements based on an initial capacity. As elements are added to the list, it may eventually reach its capacity, at which point Python needs to allocate additional memory to accommodate more elements. This process involves creating a new, larger array, copying the existing elements to the new array, and deallocating the memory occupied by the old array. This resizing operation can be inefficient, especially if it needs to be done frequently as elements are added.\n",
    "\n",
    "To avoid frequent resizing, Python often employs overallocation when creating lists. Instead of allocating memory exactly equal to the number of elements initially, Python allocates memory for a slightly larger number of elements than are currently stored in the list. This extra space allows for more elements to be added to the list before resizing is necessary.\n",
    "\n",
    "By overallocating memory, Python can reduce the frequency of resizing operations, which can lead to better performance, especially when dealing with large lists. However, it also means that lists may consume more memory than is strictly necessary to store the current elements. Overallocation is a trade-off between memory usage and performance optimization, and Python's list implementation strikes a balance to provide efficient operations for most use cases."
   ]
  }
 ],
 "metadata": {
  "kernelspec": {
   "display_name": "Python 3",
   "language": "python",
   "name": "python3"
  },
  "language_info": {
   "codemirror_mode": {
    "name": "ipython",
    "version": 3
   },
   "file_extension": ".py",
   "mimetype": "text/x-python",
   "name": "python",
   "nbconvert_exporter": "python",
   "pygments_lexer": "ipython3",
   "version": "3.12.2"
  }
 },
 "nbformat": 4,
 "nbformat_minor": 2
}
