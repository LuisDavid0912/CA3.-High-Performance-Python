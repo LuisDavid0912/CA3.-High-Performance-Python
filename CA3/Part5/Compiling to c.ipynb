{
 "cells": [
  {
   "cell_type": "code",
   "execution_count": 3,
   "metadata": {},
   "outputs": [
    {
     "ename": "SyntaxError",
     "evalue": "invalid syntax (Cython2.py, line 2)",
     "output_type": "error",
     "traceback": [
      "Traceback \u001b[1;36m(most recent call last)\u001b[0m:\n",
      "\u001b[0m  File \u001b[0;32m~\\AppData\\Local\\Packages\\PythonSoftwareFoundation.Python.3.12_qbz5n2kfra8p0\\LocalCache\\local-packages\\Python312\\site-packages\\IPython\\core\\interactiveshell.py:3577\u001b[0m in \u001b[0;35mrun_code\u001b[0m\n    exec(code_obj, self.user_global_ns, self.user_ns)\u001b[0m\n",
      "\u001b[1;36m  Cell \u001b[1;32mIn[3], line 8\u001b[1;36m\n\u001b[1;33m    import Cython2\u001b[1;36m\n",
      "\u001b[1;36m  File \u001b[1;32mc:\\CA3\\Part5\\Cython2.py:2\u001b[1;36m\u001b[0m\n\u001b[1;33m    cdef int box_length = len(lattice) - 2\u001b[0m\n\u001b[1;37m         ^\u001b[0m\n\u001b[1;31mSyntaxError\u001b[0m\u001b[1;31m:\u001b[0m invalid syntax\n"
     ]
    }
   ],
   "source": [
    "#1\n",
    "import time\n",
    "import numpy as np\n",
    "import matplotlib.pyplot as plt\n",
    "\n",
    "# Import the compiled Cython modules and the Python code\n",
    "import Cython1\n",
    "import Cython2\n",
    "import Cython3\n",
    "import Cython4\n",
    "import PythonCode\n",
    "\n",
    "# Function to measure execution time\n",
    "def time_function(func, *args, **kwargs):\n",
    "    start_time = time.time()\n",
    "    func(*args, **kwargs)\n",
    "    return time.time() - start_time\n",
    "\n",
    "lattice = np.random.randint(2, size=(10000, 10000))\n",
    "\n",
    "# Time each function\n",
    "python_time = time_function(PythonCode.update, lattice)\n",
    "cython1_time = time_function(Cython1.update, lattice)\n",
    "cython2_time = time_function(Cython2.update, lattice)\n",
    "cython3_time = time_function(Cython3.update, lattice)\n",
    "cython4_time = time_function(Cython4.update, lattice)\n",
    "\n",
    "# Collect the times\n",
    "times = [python_time, cython1_time, cython2_time, cython3_time, cython4_time]\n",
    "labels = ['Python', 'Cython1', 'Cython2', 'Cython3', 'Cython4']\n",
    "\n",
    "# Plotting the results\n",
    "plt.bar(labels, times, color='blue')\n",
    "plt.xlabel('Implementation')\n",
    "plt.ylabel('Time (sec)')\n",
    "plt.title('Results')\n",
    "plt.show()"
   ]
  },
  {
   "cell_type": "code",
   "execution_count": 2,
   "metadata": {},
   "outputs": [
    {
     "ename": "SyntaxError",
     "evalue": "invalid syntax (Cython2.py, line 2)",
     "output_type": "error",
     "traceback": [
      "Traceback \u001b[1;36m(most recent call last)\u001b[0m:\n",
      "\u001b[0m  File \u001b[0;32m~\\AppData\\Local\\Packages\\PythonSoftwareFoundation.Python.3.12_qbz5n2kfra8p0\\LocalCache\\local-packages\\Python312\\site-packages\\IPython\\core\\interactiveshell.py:3577\u001b[0m in \u001b[0;35mrun_code\u001b[0m\n    exec(code_obj, self.user_global_ns, self.user_ns)\u001b[0m\n",
      "\u001b[1;36m  Cell \u001b[1;32mIn[2], line 7\u001b[1;36m\n\u001b[1;33m    import Cython2\u001b[1;36m\n",
      "\u001b[1;36m  File \u001b[1;32mc:\\CA3\\Part5\\Cython2.py:2\u001b[1;36m\u001b[0m\n\u001b[1;33m    cdef int box_length = len(lattice) - 2\u001b[0m\n\u001b[1;37m         ^\u001b[0m\n\u001b[1;31mSyntaxError\u001b[0m\u001b[1;31m:\u001b[0m invalid syntax\n"
     ]
    }
   ],
   "source": [
    "#import time\n",
    "import numpy as np\n",
    "import matplotlib.pyplot as plt\n",
    "\n",
    "# Import the compiled Cython modules and the Python code\n",
    "import Cython1\n",
    "import Cython2\n",
    "import Cython3\n",
    "import Cython4\n",
    "import PythonCode\n",
    "import Cython3_Test\n",
    "import Cython4_Test\n",
    "\n",
    "# Function to measure execution time\n",
    "def time_function(func, *args, **kwargs):\n",
    "    start_time = time.time()\n",
    "    func(*args, **kwargs)\n",
    "    return time.time() - start_time\n",
    "\n",
    "lattice = np.random.randint(2, size=(100000, 100000))\n",
    "i=1\n",
    "j=1\n",
    "# Time each function\n",
    "python_time = time_function(PythonCode.update_rule, lattice,i,j)\n",
    "cython1_time = time_function(Cython1.update_rule, lattice,i,j)\n",
    "cython2_time = time_function(Cython2.update_rule, lattice,i,j)\n",
    "cython3_time = time_function(Cython3_Test.update_rule, lattice,i,j)\n",
    "cython4_time = time_function(Cython4_Test.update_rule, lattice,i,j)\n",
    "\n",
    "# Collect the times\n",
    "times = [python_time, cython1_time, cython2_time, cython3_time, cython4_time]\n",
    "labels = ['Python', 'Cython1', 'Cython2', 'Cython3', 'Cython4']\n",
    "\n",
    "# Plotting the results\n",
    "plt.bar(labels, times, color='blue')\n",
    "plt.xlabel('Implementation')\n",
    "plt.ylabel('Time (sec)')\n",
    "plt.title('Results')\n",
    "plt.show()"
   ]
  }
 ],
 "metadata": {
  "kernelspec": {
   "display_name": "Python 3",
   "language": "python",
   "name": "python3"
  },
  "language_info": {
   "codemirror_mode": {
    "name": "ipython",
    "version": 3
   },
   "file_extension": ".py",
   "mimetype": "text/x-python",
   "name": "python",
   "nbconvert_exporter": "python",
   "pygments_lexer": "ipython3",
   "version": "3.12.2"
  }
 },
 "nbformat": 4,
 "nbformat_minor": 2
}
