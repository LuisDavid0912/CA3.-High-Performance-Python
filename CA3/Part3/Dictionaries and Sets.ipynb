{
 "cells": [
  {
   "cell_type": "code",
   "execution_count": 1,
   "metadata": {},
   "outputs": [
    {
     "name": "stdout",
     "output_type": "stream",
     "text": [
      "AGEBs that remain from 2010 to 2020: {'AGEB1', 'AGEB3'}\n",
      "New AGEBs in 2020: {'AGEB6', 'AGEB5'}\n",
      "AGEBs that disappear from 2010 to 2020: {'AGEB4', 'AGEB2'}\n"
     ]
    }
   ],
   "source": [
    "# Hypothetical AGEB data for 2010 and 2020\n",
    "agebs_2010 = {'AGEB1', 'AGEB2', 'AGEB3', 'AGEB4'}\n",
    "agebs_2020 = {'AGEB1', 'AGEB3', 'AGEB5', 'AGEB6'}\n",
    "\n",
    "# Find AGEBs that remain from 2010 to 2020\n",
    "remain_agebs = agebs_2010 & agebs_2020\n",
    "\n",
    "# Find new AGEBs in 2020\n",
    "new_agebs = agebs_2020 - agebs_2010\n",
    "\n",
    "# Find AGEBs that disappear from 2010 to 2020\n",
    "disappear_agebs = agebs_2010 - agebs_2020\n",
    "\n",
    "print(\"AGEBs that remain from 2010 to 2020:\", remain_agebs)\n",
    "print(\"New AGEBs in 2020:\", new_agebs)\n",
    "print(\"AGEBs that disappear from 2010 to 2020:\", disappear_agebs)\n"
   ]
  },
  {
   "cell_type": "code",
   "execution_count": null,
   "metadata": {},
   "outputs": [],
   "source": [
    "import pandas as pd\n",
    "from geopandas import GeoDataFrame, read_file\n",
    "\n",
    "df_2010 = read_file('path/to/2010_marco_geoestadistico.shp')\n",
    "df_2020 = read_file('path/to/2020_marco_geoestadistico.shp')\n",
    "\n",
    "agebs_2010 = set(df_2010['AGEB'].tolist())\n",
    "agebs_2020 = set(df_2020['AGEB'].tolist())\n",
    "\n",
    "# Find changes\n",
    "remaining_agebs = agebs_2010 & agebs_2020\n",
    "new_agebs = agebs_2020 - agebs_2010\n",
    "disappeared_agebs = agebs_2010 - agebs_2020\n",
    "\n",
    "# Convert sets back to DataFrames \n",
    "df_remaining = df_2010[df_2010['AGEB'].isin(remaining_agebs)]\n",
    "df_new = df_2020[df_2020['AGEB'].isin(new_agebs)]\n",
    "df_disappeared = df_2010[df_2010['AGEB'].isin(disappeared_agebs)]\n",
    "\n",
    "\n",
    "print(\"Remaining AGEBs:\", len(remaining_agebs))\n",
    "print(\"New AGEBs:\", len(new_agebs))\n",
    "print(\"Disappeared AGEBs:\", len(disappeared_agebs))\n"
   ]
  }
 ],
 "metadata": {
  "kernelspec": {
   "display_name": "Python 3",
   "language": "python",
   "name": "python3"
  },
  "language_info": {
   "codemirror_mode": {
    "name": "ipython",
    "version": 3
   },
   "file_extension": ".py",
   "mimetype": "text/x-python",
   "name": "python",
   "nbconvert_exporter": "python",
   "pygments_lexer": "ipython3",
   "version": "3.12.2"
  }
 },
 "nbformat": 4,
 "nbformat_minor": 2
}
